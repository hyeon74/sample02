{
 "cells": [
  {
   "cell_type": "code",
   "execution_count": 22,
   "source": [
    "import pandas as pd\n",
    "import numpy as np\n",
    "import seaborn as sns\n",
    "import matplotlib as mpl\n",
    "import matplotlib.pyplot as plt\n"
   ],
   "outputs": [],
   "metadata": {}
  },
  {
   "cell_type": "markdown",
   "source": [
    "1. 점표 별 판매량의 추이를 그래프\n",
    "2. 상품의 종류를 나누어 표현\n",
    "3. 가장 많이 팔인 점포만 확인"
   ],
   "metadata": {}
  },
  {
   "cell_type": "code",
   "execution_count": 23,
   "source": [
    "mpl.rc('font', family='Malgun Gothic')"
   ],
   "outputs": [],
   "metadata": {}
  },
  {
   "cell_type": "code",
   "execution_count": 29,
   "source": [
    "df1 = pd.read_csv('Data09.csv', encoding='cp949')\n",
    "print(df1.shape)\n",
    "df1.head(5) "
   ],
   "outputs": [
    {
     "output_type": "stream",
     "name": "stdout",
     "text": [
      "(117, 646)\n"
     ]
    },
    {
     "output_type": "execute_result",
     "data": {
      "text/plain": [
       "    순번        상품코드             상품명         합계 (1154)의정부점 (1155)별내점 (1156)풍산점  \\\n",
       "0  NaN         NaN             NaN         수량         수량        수량        수량   \n",
       "1  NaN         NaN             합 계  2,029,096      6,829     8,374    12,626   \n",
       "2  1.0   1801828.0  BW1 473ml캔(수입)     65,402        174       239       432   \n",
       "3  2.0   1801859.0  BW1 355ml (낱캔)          1          0         0         0   \n",
       "4  3.0  40786179.0        RB 500ml      2,158          4         9        10   \n",
       "\n",
       "  (1157)김포한강점 (1158)세종점 (1159)킨텍스점  ... (L21)위시티점 (L23)걸포동점 (L27)통일동산점  \\\n",
       "0          수량        수량         수량  ...        수량        수량         수량   \n",
       "1      11,767    10,912      7,062  ...     2,392     1,291      4,506   \n",
       "2         199       220        263  ...         0        25         76   \n",
       "3           0         0          0  ...         0         0          0   \n",
       "4          27         0         11  ...         0         0          0   \n",
       "\n",
       "  (L35)성대점 (L36)병점점 (L38)율전점 (L39)본오점 (L40)검암점 (L44)신길점 (L46)용호점  \n",
       "0       수량       수량       수량       수량       수량       수량       수량  \n",
       "1    2,364    2,739    1,782    3,129    1,712    3,189    2,347  \n",
       "2       72       54       72       15       38       27       89  \n",
       "3        0        0        0        0        0        0        0  \n",
       "4        0        0        0        0        0        0        0  \n",
       "\n",
       "[5 rows x 646 columns]"
      ],
      "text/html": [
       "<div>\n",
       "<style scoped>\n",
       "    .dataframe tbody tr th:only-of-type {\n",
       "        vertical-align: middle;\n",
       "    }\n",
       "\n",
       "    .dataframe tbody tr th {\n",
       "        vertical-align: top;\n",
       "    }\n",
       "\n",
       "    .dataframe thead th {\n",
       "        text-align: right;\n",
       "    }\n",
       "</style>\n",
       "<table border=\"1\" class=\"dataframe\">\n",
       "  <thead>\n",
       "    <tr style=\"text-align: right;\">\n",
       "      <th></th>\n",
       "      <th>순번</th>\n",
       "      <th>상품코드</th>\n",
       "      <th>상품명</th>\n",
       "      <th>합계</th>\n",
       "      <th>(1154)의정부점</th>\n",
       "      <th>(1155)별내점</th>\n",
       "      <th>(1156)풍산점</th>\n",
       "      <th>(1157)김포한강점</th>\n",
       "      <th>(1158)세종점</th>\n",
       "      <th>(1159)킨텍스점</th>\n",
       "      <th>...</th>\n",
       "      <th>(L21)위시티점</th>\n",
       "      <th>(L23)걸포동점</th>\n",
       "      <th>(L27)통일동산점</th>\n",
       "      <th>(L35)성대점</th>\n",
       "      <th>(L36)병점점</th>\n",
       "      <th>(L38)율전점</th>\n",
       "      <th>(L39)본오점</th>\n",
       "      <th>(L40)검암점</th>\n",
       "      <th>(L44)신길점</th>\n",
       "      <th>(L46)용호점</th>\n",
       "    </tr>\n",
       "  </thead>\n",
       "  <tbody>\n",
       "    <tr>\n",
       "      <th>0</th>\n",
       "      <td>NaN</td>\n",
       "      <td>NaN</td>\n",
       "      <td>NaN</td>\n",
       "      <td>수량</td>\n",
       "      <td>수량</td>\n",
       "      <td>수량</td>\n",
       "      <td>수량</td>\n",
       "      <td>수량</td>\n",
       "      <td>수량</td>\n",
       "      <td>수량</td>\n",
       "      <td>...</td>\n",
       "      <td>수량</td>\n",
       "      <td>수량</td>\n",
       "      <td>수량</td>\n",
       "      <td>수량</td>\n",
       "      <td>수량</td>\n",
       "      <td>수량</td>\n",
       "      <td>수량</td>\n",
       "      <td>수량</td>\n",
       "      <td>수량</td>\n",
       "      <td>수량</td>\n",
       "    </tr>\n",
       "    <tr>\n",
       "      <th>1</th>\n",
       "      <td>NaN</td>\n",
       "      <td>NaN</td>\n",
       "      <td>합 계</td>\n",
       "      <td>2,029,096</td>\n",
       "      <td>6,829</td>\n",
       "      <td>8,374</td>\n",
       "      <td>12,626</td>\n",
       "      <td>11,767</td>\n",
       "      <td>10,912</td>\n",
       "      <td>7,062</td>\n",
       "      <td>...</td>\n",
       "      <td>2,392</td>\n",
       "      <td>1,291</td>\n",
       "      <td>4,506</td>\n",
       "      <td>2,364</td>\n",
       "      <td>2,739</td>\n",
       "      <td>1,782</td>\n",
       "      <td>3,129</td>\n",
       "      <td>1,712</td>\n",
       "      <td>3,189</td>\n",
       "      <td>2,347</td>\n",
       "    </tr>\n",
       "    <tr>\n",
       "      <th>2</th>\n",
       "      <td>1.0</td>\n",
       "      <td>1801828.0</td>\n",
       "      <td>BW1 473ml캔(수입)</td>\n",
       "      <td>65,402</td>\n",
       "      <td>174</td>\n",
       "      <td>239</td>\n",
       "      <td>432</td>\n",
       "      <td>199</td>\n",
       "      <td>220</td>\n",
       "      <td>263</td>\n",
       "      <td>...</td>\n",
       "      <td>0</td>\n",
       "      <td>25</td>\n",
       "      <td>76</td>\n",
       "      <td>72</td>\n",
       "      <td>54</td>\n",
       "      <td>72</td>\n",
       "      <td>15</td>\n",
       "      <td>38</td>\n",
       "      <td>27</td>\n",
       "      <td>89</td>\n",
       "    </tr>\n",
       "    <tr>\n",
       "      <th>3</th>\n",
       "      <td>2.0</td>\n",
       "      <td>1801859.0</td>\n",
       "      <td>BW1 355ml (낱캔)</td>\n",
       "      <td>1</td>\n",
       "      <td>0</td>\n",
       "      <td>0</td>\n",
       "      <td>0</td>\n",
       "      <td>0</td>\n",
       "      <td>0</td>\n",
       "      <td>0</td>\n",
       "      <td>...</td>\n",
       "      <td>0</td>\n",
       "      <td>0</td>\n",
       "      <td>0</td>\n",
       "      <td>0</td>\n",
       "      <td>0</td>\n",
       "      <td>0</td>\n",
       "      <td>0</td>\n",
       "      <td>0</td>\n",
       "      <td>0</td>\n",
       "      <td>0</td>\n",
       "    </tr>\n",
       "    <tr>\n",
       "      <th>4</th>\n",
       "      <td>3.0</td>\n",
       "      <td>40786179.0</td>\n",
       "      <td>RB 500ml</td>\n",
       "      <td>2,158</td>\n",
       "      <td>4</td>\n",
       "      <td>9</td>\n",
       "      <td>10</td>\n",
       "      <td>27</td>\n",
       "      <td>0</td>\n",
       "      <td>11</td>\n",
       "      <td>...</td>\n",
       "      <td>0</td>\n",
       "      <td>0</td>\n",
       "      <td>0</td>\n",
       "      <td>0</td>\n",
       "      <td>0</td>\n",
       "      <td>0</td>\n",
       "      <td>0</td>\n",
       "      <td>0</td>\n",
       "      <td>0</td>\n",
       "      <td>0</td>\n",
       "    </tr>\n",
       "  </tbody>\n",
       "</table>\n",
       "<p>5 rows × 646 columns</p>\n",
       "</div>"
      ]
     },
     "metadata": {},
     "execution_count": 29
    }
   ],
   "metadata": {}
  },
  {
   "cell_type": "code",
   "execution_count": 31,
   "source": [
    "df1.columns"
   ],
   "outputs": [
    {
     "output_type": "execute_result",
     "data": {
      "text/plain": [
       "Index(['순번', '상품코드', '상품명', ' 합계', '(1154)의정부점', '(1155)별내점', '(1156)풍산점',\n",
       "       '(1157)김포한강점', '(1158)세종점', '(1159)킨텍스점',\n",
       "       ...\n",
       "       '(L21)위시티점', '(L23)걸포동점', '(L27)통일동산점', '(L35)성대점', '(L36)병점점',\n",
       "       '(L38)율전점', '(L39)본오점', '(L40)검암점', '(L44)신길점', '(L46)용호점'],\n",
       "      dtype='object', length=646)"
      ]
     },
     "metadata": {},
     "execution_count": 31
    }
   ],
   "metadata": {}
  },
  {
   "cell_type": "code",
   "execution_count": 45,
   "source": [
    "stack_data = df1.drop(columns=['순번','상품코드']).set_index('상품명').stack()\n",
    "df2 = pd.DataFrame(stack_data).reset_index()"
   ],
   "outputs": [],
   "metadata": {}
  },
  {
   "cell_type": "code",
   "execution_count": 53,
   "source": [
    "cond1 = df2['상품명'].isnull()\n",
    "cond2 = df2['상품명'] == '합 계'\n",
    "cond3 = df2['level_1'] == ' 합계'\n",
    "df3 = df2.loc[~cond1 & ~cond2 & ~cond3]"
   ],
   "outputs": [],
   "metadata": {}
  },
  {
   "cell_type": "code",
   "execution_count": 56,
   "source": [
    "df4 = df3.rename(columns={'level_1':'점포명',0:'판매량'})"
   ],
   "outputs": [],
   "metadata": {}
  },
  {
   "cell_type": "code",
   "execution_count": 74,
   "source": [
    "def func1(row):\n",
    "    if 'CAT' in row:\n",
    "        return 'C TYPE'\n",
    "    elif 'STL' in row:\n",
    "        return 'S TYPE'\n",
    "    elif 'B' in row:\n",
    "        return 'B TYPE'\n",
    "    else:\n",
    "        return 'Non TYPE'"
   ],
   "outputs": [],
   "metadata": {}
  },
  {
   "cell_type": "code",
   "execution_count": 75,
   "source": [
    "df4['상품명'].apply(func1)"
   ],
   "outputs": [
    {
     "output_type": "execute_result",
     "data": {
      "text/plain": [
       "1287     B TYPE\n",
       "1288     B TYPE\n",
       "1289     B TYPE\n",
       "1290     B TYPE\n",
       "1291     B TYPE\n",
       "          ...  \n",
       "75226    C TYPE\n",
       "75227    C TYPE\n",
       "75228    C TYPE\n",
       "75229    C TYPE\n",
       "75230    C TYPE\n",
       "Name: 상품명, Length: 73830, dtype: object"
      ]
     },
     "metadata": {},
     "execution_count": 75
    }
   ],
   "metadata": {}
  }
 ],
 "metadata": {
  "orig_nbformat": 4,
  "language_info": {
   "name": "python",
   "version": "3.8.3",
   "mimetype": "text/x-python",
   "codemirror_mode": {
    "name": "ipython",
    "version": 3
   },
   "pygments_lexer": "ipython3",
   "nbconvert_exporter": "python",
   "file_extension": ".py"
  },
  "kernelspec": {
   "name": "python3",
   "display_name": "Python 3.8.3 64-bit ('base': conda)"
  },
  "interpreter": {
   "hash": "dca0ade3e726a953b501b15e8e990130d2b7799f14cfd9f4271676035ebe5511"
  }
 },
 "nbformat": 4,
 "nbformat_minor": 2
}